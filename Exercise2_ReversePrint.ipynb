{
  "nbformat": 4,
  "nbformat_minor": 0,
  "metadata": {
    "colab": {
      "name": "Untitled6.ipynb",
      "provenance": [],
      "authorship_tag": "ABX9TyPh9gomK8keROsUXkWY5mA0",
      "include_colab_link": true
    },
    "kernelspec": {
      "name": "python3",
      "display_name": "Python 3"
    },
    "language_info": {
      "name": "python"
    }
  },
  "cells": [
    {
      "cell_type": "markdown",
      "metadata": {
        "id": "view-in-github",
        "colab_type": "text"
      },
      "source": [
        "<a href=\"https://colab.research.google.com/github/MithunKiniStar/Python-Handson/blob/main/Exercise2_ReversePrint.ipynb\" target=\"_parent\"><img src=\"https://colab.research.google.com/assets/colab-badge.svg\" alt=\"Open In Colab\"/></a>"
      ]
    },
    {
      "cell_type": "code",
      "metadata": {
        "id": "mBRJZdd9QVLf"
      },
      "source": [
        "class user:\n",
        "  def print_name_in_reverse(self,first_name,last_name):\n",
        "    print(first_name[::-1]+ \" \"+last_name[::-1])"
      ],
      "execution_count": 2,
      "outputs": []
    },
    {
      "cell_type": "code",
      "metadata": {
        "colab": {
          "base_uri": "https://localhost:8080/"
        },
        "id": "hfRJMwseQ-E4",
        "outputId": "eb3c02e0-6ce2-4db3-dfba-d5f00a974e9e"
      },
      "source": [
        "usr = user()\n",
        "first_name = input(\"Enter first name\")\n",
        "last_name = input(\"Enter last name\")\n",
        "usr.print_name_in_reverse(first_name, last_name)"
      ],
      "execution_count": 3,
      "outputs": [
        {
          "output_type": "stream",
          "name": "stdout",
          "text": [
            "Enter first nameMithun\n",
            "Enter last nameKini\n",
            "nuhtiM iniK\n"
          ]
        }
      ]
    }
  ]
}