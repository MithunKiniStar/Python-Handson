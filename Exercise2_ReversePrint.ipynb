{
  "nbformat": 4,
  "nbformat_minor": 0,
  "metadata": {
    "colab": {
      "name": "Untitled6.ipynb",
      "provenance": [],
      "authorship_tag": "ABX9TyMQvtgVmobQWfDSwDRS9XwY",
      "include_colab_link": true
    },
    "kernelspec": {
      "name": "python3",
      "display_name": "Python 3"
    },
    "language_info": {
      "name": "python"
    }
  },
  "cells": [
    {
      "cell_type": "markdown",
      "metadata": {
        "id": "view-in-github",
        "colab_type": "text"
      },
      "source": [
        "<a href=\"https://colab.research.google.com/github/MithunKiniStar/Python-Handson/blob/main/Exercise2_ReversePrint.ipynb\" target=\"_parent\"><img src=\"https://colab.research.google.com/assets/colab-badge.svg\" alt=\"Open In Colab\"/></a>"
      ]
    },
    {
      "cell_type": "code",
      "metadata": {
        "id": "mBRJZdd9QVLf"
      },
      "source": [
        "class user:\n",
        "  def print_name_in_reverse(self,first_name,last_name):\n",
        "    print(first_name[::-1]+ \" \"+last_name[::-1])"
      ],
      "execution_count": 4,
      "outputs": []
    },
    {
      "cell_type": "code",
      "metadata": {
        "colab": {
          "base_uri": "https://localhost:8080/"
        },
        "id": "hfRJMwseQ-E4",
        "outputId": "1b89cfaf-7148-4b61-d8de-b0be2fcd5c0b"
      },
      "source": [
        "usr = user()\n",
        "usr.print_name_in_reverse(\"Mithun\", \"Kini\")"
      ],
      "execution_count": 5,
      "outputs": [
        {
          "output_type": "stream",
          "name": "stdout",
          "text": [
            "nuhtiM iniK\n"
          ]
        }
      ]
    }
  ]
}