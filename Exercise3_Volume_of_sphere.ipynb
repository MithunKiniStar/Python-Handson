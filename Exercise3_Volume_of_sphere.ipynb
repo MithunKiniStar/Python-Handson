{
  "nbformat": 4,
  "nbformat_minor": 0,
  "metadata": {
    "colab": {
      "name": "Untitled7.ipynb",
      "provenance": [],
      "authorship_tag": "ABX9TyMge+/erSkBp2bvQ2t0CQBM",
      "include_colab_link": true
    },
    "kernelspec": {
      "name": "python3",
      "display_name": "Python 3"
    },
    "language_info": {
      "name": "python"
    }
  },
  "cells": [
    {
      "cell_type": "markdown",
      "metadata": {
        "id": "view-in-github",
        "colab_type": "text"
      },
      "source": [
        "<a href=\"https://colab.research.google.com/github/MithunKiniStar/Python-Handson/blob/main/Exercise3_Volume_of_sphere.ipynb\" target=\"_parent\"><img src=\"https://colab.research.google.com/assets/colab-badge.svg\" alt=\"Open In Colab\"/></a>"
      ]
    },
    {
      "cell_type": "code",
      "metadata": {
        "id": "5uVQ5ClsSB1p"
      },
      "source": [
        "import math\n",
        "class sphere:\n",
        "  def vol_of_sphere(self,radius):\n",
        "    print((4/3)*math.pi*radius**3)"
      ],
      "execution_count": 1,
      "outputs": []
    },
    {
      "cell_type": "code",
      "metadata": {
        "colab": {
          "base_uri": "https://localhost:8080/"
        },
        "id": "7f3gfcDdSqh_",
        "outputId": "eb71db24-831b-4e36-99f4-c9b734e2e37f"
      },
      "source": [
        "sp = sphere().vol_of_sphere(5)"
      ],
      "execution_count": 2,
      "outputs": [
        {
          "output_type": "stream",
          "name": "stdout",
          "text": [
            "523.5987755982989\n"
          ]
        }
      ]
    }
  ]
}